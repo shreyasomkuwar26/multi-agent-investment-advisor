{
  "cells": [
    {
      "cell_type": "markdown",
      "metadata": {
        "id": "view-in-github",
        "colab_type": "text"
      },
      "source": [
        "<a href=\"https://colab.research.google.com/github/shreyasomkuwar26/multi-agent-investment-advisor/blob/main/Multi_Agent_Investment_Advisor_Finnhub.ipynb\" target=\"_parent\"><img src=\"https://colab.research.google.com/assets/colab-badge.svg\" alt=\"Open In Colab\"/></a>"
      ]
    },
    {
      "cell_type": "markdown",
      "id": "43e5aea2",
      "metadata": {
        "id": "43e5aea2"
      },
      "source": [
        "# Comprehensive Investment Advisory Workflow Using CrewAI"
      ]
    },
    {
      "cell_type": "markdown",
      "id": "9c19d5e9",
      "metadata": {
        "id": "9c19d5e9"
      },
      "source": [
        "\n",
        "In this notebook, we illustrate a sophisticated investment advisory system built using **CrewAI**. The workflow combines multiple AI agents, each equipped with specialized tools, to:\n",
        "1. Gather financial data and news about a company.\n",
        "2. Analyze the data comprehensively.\n",
        "3. Provide actionable investment recommendations.\n",
        "\n",
        "---\n",
        "### Workflow Overview\n",
        "1. Define custom tools to retrieve financial data, income statements, and stock prices.\n",
        "2. Create agents for data gathering, analysis, and recommendation tasks.\n",
        "3. Define tasks aligned with these agents' roles and objectives.\n",
        "4. Configure a crew to execute these tasks sequentially, leveraging collaboration between agents.\n",
        "5. Run the workflow and observe the results.\n",
        "\n",
        "---\n",
        "### Code Walkthrough\n",
        "Below is the implementation.\n"
      ]
    },
    {
      "cell_type": "markdown",
      "id": "4d7fd515",
      "metadata": {
        "id": "4d7fd515"
      },
      "source": [
        "### Step 1: Import Required Libraries and Declare in-built Tools"
      ]
    },
    {
      "cell_type": "code",
      "execution_count": null,
      "id": "6bDZTf79BMG9",
      "metadata": {
        "collapsed": true,
        "id": "6bDZTf79BMG9"
      },
      "outputs": [],
      "source": [
        "## initial setup for Colab.\n",
        "## if you are using this in local jupyter notebook, skip this cell\n",
        "!pip install crewai\n",
        "!pip install crewai-tools\n",
        "!pip install duckduckgo-search\n",
        "!pip install finnhub-python"
      ]
    },
    {
      "cell_type": "code",
      "execution_count": null,
      "id": "75aead4e",
      "metadata": {
        "id": "75aead4e"
      },
      "outputs": [],
      "source": [
        "from crewai import Agent, Task\n",
        "from crewai.tools import tool\n",
        "from langchain_community.tools import DuckDuckGoSearchRun\n",
        "from datetime import datetime\n",
        "\n",
        "# Current date for context\n",
        "Now = datetime.now()\n",
        "Today = Now.strftime(\"%d-%b-%Y\")\n",
        "\n",
        "# Define a web search tool\n",
        "@tool(\"DuckDuckGo Search\")\n",
        "def search_tool(search_query: str):\n",
        "    \"\"\"Search the internet for information on a given topic\"\"\"\n",
        "    return DuckDuckGoSearchRun().run(search_query)"
      ]
    },
    {
      "cell_type": "markdown",
      "id": "9-LC7lz-CeiO",
      "metadata": {
        "id": "9-LC7lz-CeiO"
      },
      "source": [
        "### Step 2: Define Custom Tools"
      ]
    },
    {
      "cell_type": "code",
      "source": [
        "# Simple cache implementation\n",
        "cache = {}\n",
        "cache_expiry = {}\n",
        "\n",
        "def get_cached_data(key, expiry_seconds=300):\n",
        "    \"\"\"Get data from cache if not expired.\"\"\"\n",
        "    if key in cache and time.time() < cache_expiry.get(key, 0):\n",
        "        return cache[key]\n",
        "    return None\n",
        "\n",
        "def set_cached_data(key, data, expiry_seconds=300):\n",
        "    \"\"\"Set data in cache with expiry time.\"\"\"\n",
        "    cache[key] = data\n",
        "    cache_expiry[key] = time.time() + expiry_seconds"
      ],
      "metadata": {
        "id": "UJUikPosYt2j"
      },
      "id": "UJUikPosYt2j",
      "execution_count": null,
      "outputs": []
    },
    {
      "cell_type": "code",
      "execution_count": null,
      "id": "JDwuZMn_Cvi3",
      "metadata": {
        "id": "JDwuZMn_Cvi3"
      },
      "outputs": [],
      "source": [
        "from crewai.tools import tool\n",
        "import finnhub\n",
        "import json\n",
        "import time\n",
        "import os\n",
        "\n",
        "from google.colab import userdata\n",
        "\n",
        "# Get the API key from userdata\n",
        "FINNHUB_API_KEY = userdata.get('finnhub_api_key')\n",
        "\n",
        "# Now you can use FINNHUB_API_KEY to initialize the Finnhub client\n",
        "finnhub_client = finnhub.Client(api_key=FINNHUB_API_KEY)\n",
        "\n",
        "\n",
        "@tool(\"Get current stock price\")\n",
        "def get_current_stock_price(symbol: str) -> str:\n",
        "    \"\"\"Use this function to get the current stock price for a given symbol.\n",
        "\n",
        "    Args:\n",
        "        symbol (str): The stock symbol. For Indian stocks, use format like 'RELIANCE.NS' or 'TCS.BO'.\n",
        "\n",
        "    Returns:\n",
        "        str: The current stock price or error message.\n",
        "    \"\"\"\n",
        "    \"\"\"Use this function to get the current stock price...\"\"\"\n",
        "    cache_key = f\"price_{symbol}\"\n",
        "    cached_result = get_cached_data(cache_key, 60)  # Cache for 60 seconds\n",
        "    if cached_result:\n",
        "        return cached_result\n",
        "\n",
        "    try:\n",
        "        # Add a small delay to avoid rate limiting\n",
        "        time.sleep(0.5)\n",
        "\n",
        "        # Handle Indian stock exchange symbols\n",
        "        api_symbol = symbol\n",
        "        if '.NSE' in symbol or '.BSE' in symbol:\n",
        "            # Finnhub requires different format for Indian stocks\n",
        "            # Strip the .NSE or .BSE and add the exchange info\n",
        "            base_symbol = symbol.split('.')[0]\n",
        "            exchange = symbol.split('.')[1]\n",
        "            # For some Indian exchanges, you might need to modify the symbol format\n",
        "            api_symbol = f\"{base_symbol}:{exchange}\"\n",
        "\n",
        "        # Get the quote\n",
        "        quote = finnhub_client.quote(api_symbol)\n",
        "\n",
        "        if quote and 'c' in quote:\n",
        "            current_price = quote['c']\n",
        "            set_cached_data(cache_key, str(current_price))  # Cache the result\n",
        "            return f\"{current_price:.2f}\"\n",
        "        else:\n",
        "            return f\"Could not fetch current price for {symbol}\"\n",
        "    except Exception as e:\n",
        "        return f\"Error fetching current price for {symbol}: {e}\"\n",
        "\n",
        "@tool\n",
        "def get_company_info(symbol: str):\n",
        "    \"\"\"Use this function to get company information and current financial snapshot for a given stock symbol.\n",
        "\n",
        "    Args:\n",
        "        symbol (str): The stock symbol. For Indian stocks, use format like 'RELIANCE.NS' or 'TCS.BO'.\n",
        "\n",
        "    Returns:\n",
        "        JSON containing company profile and current financial snapshot.\n",
        "    \"\"\"\n",
        "    try:\n",
        "        # Add a small delay to avoid rate limiting\n",
        "        time.sleep(0.5)\n",
        "\n",
        "        api_symbol = symbol\n",
        "        if '.NSE' in symbol or '.BSE' in symbol:\n",
        "            # Finnhub requires different format for Indian stocks\n",
        "            # Strip the .NSE or .BSE and add the exchange info\n",
        "            base_symbol = symbol.split('.')[0]\n",
        "            exchange = symbol.split('.')[1]\n",
        "            # For some Indian exchanges, you might need to modify the symbol format\n",
        "            api_symbol = f\"{base_symbol}:{exchange}\"\n",
        "\n",
        "        # Get company profile\n",
        "        profile = finnhub_client.company_profile2(symbol=api_symbol)\n",
        "\n",
        "        # Get quote data\n",
        "        quote = finnhub_client.quote(api_symbol)\n",
        "\n",
        "        # Get basic financials\n",
        "        financials = finnhub_client.company_basic_financials(api_symbol, 'all')\n",
        "\n",
        "        # Create a cleaned info dictionary\n",
        "        company_info_cleaned = {\n",
        "            \"Name\": profile.get(\"name\"),\n",
        "            \"Symbol\": profile.get(\"ticker\"),\n",
        "            \"Current Stock Price\": f\"{quote.get('c')} {profile.get('currency', 'USD')}\",\n",
        "            \"Market Cap\": profile.get(\"marketCapitalization\"),\n",
        "            \"Sector\": profile.get(\"finnhubIndustry\"),\n",
        "            \"Industry\": profile.get(\"finnhubIndustry\"),\n",
        "            \"Country\": profile.get(\"country\"),\n",
        "            \"Exchange\": profile.get(\"exchange\"),\n",
        "            \"IPO\": profile.get(\"ipo\"),\n",
        "            \"Logo\": profile.get(\"logo\"),\n",
        "            \"Website\": profile.get(\"weburl\"),\n",
        "        }\n",
        "\n",
        "        # Add financial metrics if available\n",
        "        if financials and 'metric' in financials:\n",
        "            metrics = financials['metric']\n",
        "            company_info_cleaned.update({\n",
        "                \"52 Week Low\": metrics.get(\"52WeekLow\"),\n",
        "                \"52 Week High\": metrics.get(\"52WeekHigh\"),\n",
        "                \"P/E Ratio\": metrics.get(\"peBasicExclExtraTTM\"),\n",
        "                \"EPS\": metrics.get(\"epsBasicExclExtraItemsTTM\"),\n",
        "                \"Dividend Yield\": metrics.get(\"dividendYieldIndicatedAnnual\"),\n",
        "                \"ROE\": metrics.get(\"roeTTM\"),\n",
        "                \"ROA\": metrics.get(\"roaTTM\"),\n",
        "                \"Debt to Equity\": metrics.get(\"totalDebtOverTotalEquityQuarterly\"),\n",
        "                \"Revenue Growth\": metrics.get(\"revenueGrowthTTMYoy\"),\n",
        "            })\n",
        "\n",
        "        return json.dumps(company_info_cleaned)\n",
        "    except Exception as e:\n",
        "        return f\"Error fetching company profile for {symbol}: {e}\"\n",
        "\n",
        "@tool\n",
        "def get_income_statements(symbol: str):\n",
        "    \"\"\"Use this function to get income statements for a given stock symbol.\n",
        "\n",
        "    Args:\n",
        "        symbol (str): The stock symbol. For Indian stocks, use format like 'RELIANCE.NS' or 'TCS.BO'.\n",
        "\n",
        "    Returns:\n",
        "        JSON containing income statements or an empty dictionary.\n",
        "    \"\"\"\n",
        "    try:\n",
        "        # Add a small delay to avoid rate limiting\n",
        "        time.sleep(0.5)\n",
        "\n",
        "        # Handle Indian stock exchange symbols\n",
        "        api_symbol = symbol\n",
        "        if '.NSE' in symbol or '.BSE' in symbol:\n",
        "            # Finnhub requires different format for Indian stocks\n",
        "            # Strip the .NSE or .BSE and add the exchange info\n",
        "            base_symbol = symbol.split('.')[0]\n",
        "            exchange = symbol.split('.')[1]\n",
        "            # For some Indian exchanges, you might need to modify the symbol format\n",
        "            api_symbol = f\"{base_symbol}:{exchange}\"\n",
        "\n",
        "        # Get financial statements\n",
        "        financials = finnhub_client.financials_reported(symbol=api_symbol, freq='annual')\n",
        "\n",
        "        # Extract income statements if available\n",
        "        if financials and 'data' in financials and len(financials['data']) > 0:\n",
        "            income_statements = []\n",
        "            for report in financials['data']:\n",
        "                if 'report' in report and 'ic' in report['report']:\n",
        "                    income_statements.append({\n",
        "                        'year': report.get('year'),\n",
        "                        'quarter': report.get('quarter'),\n",
        "                        'income_statement': report['report']['ic']\n",
        "                    })\n",
        "            return json.dumps(income_statements)\n",
        "        else:\n",
        "            return f\"No income statements found for {symbol}\"\n",
        "    except Exception as e:\n",
        "        return f\"Error fetching income statements for {symbol}: {e}\""
      ]
    },
    {
      "cell_type": "markdown",
      "id": "08db8f41",
      "metadata": {
        "id": "08db8f41"
      },
      "source": [
        "### Step 3: Define the Agents\n",
        "\n"
      ]
    },
    {
      "cell_type": "code",
      "execution_count": null,
      "id": "8ec045d0",
      "metadata": {
        "id": "8ec045d0"
      },
      "outputs": [],
      "source": [
        "from crewai import Agent\n",
        "\n",
        "# Agent for gathering company news and information\n",
        "news_info_explorer = Agent(\n",
        "    role='News and Info Researcher',\n",
        "    goal='Gather and provide the latest news and information about a company from the internet',\n",
        "    #llm='gpt-4o',\n",
        "    llm='gpt-4.1-2025-04-14',\n",
        "    verbose=True,\n",
        "    backstory=(\n",
        "        'You are an expert researcher, who can gather detailed information about a company. '\n",
        "        'Consider you are on: ' + Today\n",
        "    ),\n",
        "    tools=[search_tool],\n",
        "    cache=True,\n",
        "    max_iter=5,\n",
        ")\n",
        "\n",
        "# Agent for gathering financial data\n",
        "data_explorer = Agent(\n",
        "    role='Data Researcher',\n",
        "    goal='Gather and provide financial data and company information about a stock',\n",
        "    #llm='gpt-4o',\n",
        "    llm='gpt-4.1-2025-04-14',\n",
        "    verbose=True,\n",
        "    backstory=(\n",
        "        'You are an expert researcher, who can gather detailed information about a company or stock. '\n",
        "        'For Indian stocks, use format like \"RELIANCE.NSE\" for NSE or \"TCS.BSE\" for BSE. '\n",
        "        'Intelligently figure out it is an Indian or US stock'\n",
        "        'For US stocks, just use the ticker symbol like \"AAPL\". '\n",
        "        'Use Indian units for numbers (lakh, crore) for Indian stocks only. '\n",
        "        'Consider you are on: ' + Today\n",
        "    ),\n",
        "    tools=[get_company_info, get_income_statements],\n",
        "    cache=True,\n",
        "    max_iter=5,\n",
        ")\n",
        "\n",
        "# Agent for analyzing data\n",
        "analyst = Agent(\n",
        "    role='Data Analyst',\n",
        "    goal='Consolidate financial data, stock information, and provide a summary',\n",
        "    #llm='gpt-4o',\n",
        "    llm='gpt-4.1-2025-04-14',\n",
        "    verbose=True,\n",
        "    backstory=(\n",
        "        'You are an expert in analyzing financial data, stock/company-related current information, and '\n",
        "        'making a comprehensive analysis. Use Indian units for numbers (lakh, crore). '\n",
        "        'Consider you are on: ' + Today\n",
        "    ),\n",
        ")\n",
        "\n",
        "# Agent for financial recommendations\n",
        "fin_expert = Agent(\n",
        "    role='Financial Expert',\n",
        "    goal='Considering financial analysis of a stock, make investment recommendations',\n",
        "    #llm='gpt-4o',\n",
        "    llm='gpt-4.1-2025-04-14',\n",
        "    verbose=True,\n",
        "    tools=[get_current_stock_price],\n",
        "    max_iter=5,\n",
        "    backstory=(\n",
        "        'You are an expert financial advisor who can provide investment recommendations. '\n",
        "        'Consider the financial analysis, current information about the company, current stock price, '\n",
        "        'and make recommendations about whether to buy/hold/sell a stock along with reasons. '\n",
        "        'For Indian stocks, use format like \"RELIANCE.NSE\" for NSE or \"TCS.BSE\" for BSE. '\n",
        "        'For US stocks, just use the ticker symbol like \"AAPL\". '\n",
        "        'Intelligently figure out it is an Indian or US stock. '\n",
        "        'Use Indian units for numbers (lakh, crore) for Indian stocks only. '\n",
        "        'Consider you are on: ' + Today\n",
        "    ),\n",
        ")"
      ]
    },
    {
      "cell_type": "markdown",
      "id": "64d4437c",
      "metadata": {
        "id": "64d4437c"
      },
      "source": [
        "### Step 4: Define the Tasks"
      ]
    },
    {
      "cell_type": "code",
      "execution_count": null,
      "id": "c3e78f83",
      "metadata": {
        "id": "c3e78f83"
      },
      "outputs": [],
      "source": [
        "from crewai import Task\n",
        "\n",
        "# Task to gather financial data of a stock\n",
        "get_company_financials = Task(\n",
        "    description=\"Get key financial data for stock: {stock}. Focus on the most important metrics only.\",\n",
        "    expected_output=\"Summary of key financial metrics for {stock}. Keep it concise and under 1000 words.\",\n",
        "    agent=data_explorer,\n",
        ")\n",
        "\n",
        "# Task to gather company news\n",
        "get_company_news = Task(\n",
        "    description=\"Get latest 3-5 important news items about company: {stock}\",\n",
        "    expected_output=\"Brief summary of 3-5 latest significant news items. Keep it under 800 words.\",\n",
        "    agent=news_info_explorer,\n",
        ")\n",
        "\n",
        "# Task to analyze financial data and news\n",
        "analyse = Task(\n",
        "    description=\"Analyze the financial data and news, focusing on the most important points.\",\n",
        "    expected_output=\"Concise analysis of the stock's key metrics and news impact. Maximum 1500 words.\",\n",
        "    agent=analyst,\n",
        "    context=[get_company_financials, get_company_news],\n",
        "    output_file='Analysis.md',\n",
        ")\n",
        "\n",
        "\n",
        "# Task to provide financial advice\n",
        "advise = Task(\n",
        "    description=\"Make a recommendation about investing in a stock, based on analysis provided and current stock price. \"\n",
        "                \"Explain the reasons.\",\n",
        "    expected_output=\"Recommendation (Buy / Hold / Sell) of a stock backed with reasons elaborated.\"\n",
        "                    \"Response in Mark down format.\",\n",
        "    agent=fin_expert,\n",
        "    context=[analyse],\n",
        "    output_file='Recommendation.md',\n",
        ")"
      ]
    },
    {
      "cell_type": "markdown",
      "id": "97a2571e",
      "metadata": {
        "id": "97a2571e"
      },
      "source": [
        "### Step 5: Set Up the Crew"
      ]
    },
    {
      "cell_type": "code",
      "execution_count": null,
      "id": "25e9ba1e",
      "metadata": {
        "id": "25e9ba1e"
      },
      "outputs": [],
      "source": [
        "from crewai import Crew, Process\n",
        "from datetime import datetime\n",
        "\n",
        "# Callback function to print a timestamp\n",
        "def timestamp(Input):\n",
        "    print(datetime.now())\n",
        "\n",
        "# Define the crew with agents and tasks in sequential process\n",
        "crew = Crew(\n",
        "    agents=[data_explorer, news_info_explorer, analyst, fin_expert],\n",
        "    tasks=[get_company_financials, get_company_news, analyse, advise],\n",
        "    verbose=True,\n",
        "    Process=Process.sequential,\n",
        "    step_callback=timestamp,\n",
        ")"
      ]
    },
    {
      "cell_type": "markdown",
      "id": "569c842e",
      "metadata": {
        "id": "569c842e"
      },
      "source": [
        "### Step 5: Run the Crew and Observe Results"
      ]
    },
    {
      "cell_type": "code",
      "execution_count": null,
      "id": "e131206a",
      "metadata": {
        "id": "e131206a"
      },
      "outputs": [],
      "source": [
        "# Set your OpenAI API key or any other LLM API key\n",
        "from google.colab import userdata\n",
        "import os\n",
        "\n",
        "# Set your Groq API key or any other LLM API key\n",
        "os.environ['OPENAI_API_KEY'] = userdata.get('openai_key')\n",
        "\n",
        "# Run the crew with a specific stock\n",
        "result = crew.kickoff(inputs={'stock': 'TSLA'})\n",
        "\n",
        "# Print the final result\n",
        "print(\"Final Result:\", result)"
      ]
    },
    {
      "cell_type": "markdown",
      "id": "d4917f4a",
      "metadata": {
        "id": "d4917f4a"
      },
      "source": [
        "\n",
        "---\n",
        "### Conclusion\n",
        "This workflow demonstrates a detailed investment advisory process using multiple agents and tasks. The system showcases the integration of custom tools and collaborative agents in CrewAI to provide actionable financial insights.\n"
      ]
    }
  ],
  "metadata": {
    "colab": {
      "provenance": [],
      "include_colab_link": true
    },
    "kernelspec": {
      "display_name": "Python 3",
      "name": "python3"
    },
    "language_info": {
      "name": "python"
    }
  },
  "nbformat": 4,
  "nbformat_minor": 5
}