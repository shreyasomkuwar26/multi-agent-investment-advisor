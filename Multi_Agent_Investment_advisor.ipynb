{
  "cells": [
    {
      "cell_type": "markdown",
      "metadata": {
        "id": "view-in-github",
        "colab_type": "text"
      },
      "source": [
        "<a href=\"https://colab.research.google.com/github/shreyasomkuwar26/multi_agent_investment_advisor/blob/main/Multi_Agent_Investment_advisor.ipynb\" target=\"_parent\"><img src=\"https://colab.research.google.com/assets/colab-badge.svg\" alt=\"Open In Colab\"/></a>"
      ]
    },
    {
      "cell_type": "markdown",
      "id": "43e5aea2",
      "metadata": {
        "id": "43e5aea2"
      },
      "source": [
        "# Comprehensive Investment Advisory Workflow Using CrewAI"
      ]
    },
    {
      "cell_type": "markdown",
      "id": "9c19d5e9",
      "metadata": {
        "id": "9c19d5e9"
      },
      "source": [
        "\n",
        "In this notebook, we illustrate a sophisticated investment advisory system built using **CrewAI**. The workflow combines multiple AI agents, each equipped with specialized tools, to:\n",
        "1. Gather financial data and news about a company.\n",
        "2. Analyze the data comprehensively.\n",
        "3. Provide actionable investment recommendations.\n",
        "\n",
        "---\n",
        "### Workflow Overview\n",
        "1. Define custom tools to retrieve financial data, income statements, and stock prices.\n",
        "2. Create agents for data gathering, analysis, and recommendation tasks.\n",
        "3. Define tasks aligned with these agents' roles and objectives.\n",
        "4. Configure a crew to execute these tasks sequentially, leveraging collaboration between agents.\n",
        "5. Run the workflow and observe the results.\n",
        "\n",
        "---\n",
        "### Code Walkthrough\n",
        "Below is the implementation.\n"
      ]
    },
    {
      "cell_type": "markdown",
      "id": "4d7fd515",
      "metadata": {
        "id": "4d7fd515"
      },
      "source": [
        "### Step 1: Import Required Libraries and Declare in-built Tools"
      ]
    },
    {
      "cell_type": "code",
      "execution_count": null,
      "id": "6bDZTf79BMG9",
      "metadata": {
        "collapsed": true,
        "id": "6bDZTf79BMG9"
      },
      "outputs": [],
      "source": [
        "## initial setup for Colab.\n",
        "## if you are using this in local jupyter notebook, skip this cell\n",
        "!pip install crewai\n",
        "!pip install crewai-tools\n",
        "!pip install duckduckgo-search\n",
        "!pip install yfinance\n",
        "!pip install curl_cffi"
      ]
    },
    {
      "cell_type": "code",
      "execution_count": null,
      "id": "75aead4e",
      "metadata": {
        "id": "75aead4e"
      },
      "outputs": [],
      "source": [
        "from crewai import Agent, Task\n",
        "from crewai.tools import tool\n",
        "from langchain_community.tools import DuckDuckGoSearchRun\n",
        "from datetime import datetime\n",
        "\n",
        "# Current date for context\n",
        "Now = datetime.now()\n",
        "Today = Now.strftime(\"%d-%b-%Y\")\n",
        "\n",
        "# Define a web search tool\n",
        "@tool(\"DuckDuckGo Search\")\n",
        "def search_tool(search_query: str):\n",
        "    \"\"\"Search the internet for information on a given topic\"\"\"\n",
        "    return DuckDuckGoSearchRun().run(search_query)"
      ]
    },
    {
      "cell_type": "markdown",
      "id": "9-LC7lz-CeiO",
      "metadata": {
        "id": "9-LC7lz-CeiO"
      },
      "source": [
        "### Step 2: Define Custom Tools"
      ]
    },
    {
      "cell_type": "code",
      "execution_count": null,
      "id": "JDwuZMn_Cvi3",
      "metadata": {
        "id": "JDwuZMn_Cvi3"
      },
      "outputs": [],
      "source": [
        "from crewai.tools import tool\n",
        "import json\n",
        "\n",
        "## Import Yahoo Finance APIs\n",
        "import yfinance as yf\n",
        "from curl_cffi import requests\n",
        "import time\n",
        "\n",
        "session = requests.Session(impersonate=\"chrome\")\n",
        "\n",
        "## A function is defined, that will work as a tool and that is provided to the framework (hence to agents) as a tool with the '@tool' decorator\n",
        "## Note the function description  (purpose, usage) in doc strigs.\n",
        "@tool (\"Get current stock price\")\n",
        "def get_current_stock_price(symbol: str) -> str:\n",
        "    \"\"\"Use this function to get the current stock price for a given symbol.\n",
        "\n",
        "    Args:\n",
        "        symbol (str): The stock symbol.\n",
        "\n",
        "    Returns:\n",
        "        str: The current stock price or error message.\n",
        "    \"\"\"\n",
        "    try:\n",
        "        time.sleep(0.5)\n",
        "        stock = yf.Ticker(symbol,session=session)\n",
        "\n",
        "        current_price = stock.info.get(\"regularMarketPrice\", stock.info.get(\"currentPrice\"))\n",
        "        return f\"{current_price:.2f}\" if current_price else f\"Could not fetch current price for {symbol}\"\n",
        "    except Exception as e:\n",
        "        return f\"Error fetching current price for {symbol}: {e}\"\n",
        "\n",
        "@tool\n",
        "def get_company_info(symbol: str):\n",
        "    \"\"\"Use this function to get company information and current financial snapshot for a given stock symbol.\n",
        "\n",
        "    Args:\n",
        "        symbol (str): The stock symbol.\n",
        "\n",
        "    Returns:\n",
        "        JSON containing company profile and current financial snapshot.\n",
        "    \"\"\"\n",
        "    try:\n",
        "        company_info_full = yf.Ticker(symbol,session=session).info\n",
        "        if company_info_full is None:\n",
        "            return f\"Could not fetch company info for {symbol}\"\n",
        "\n",
        "        company_info_cleaned = {\n",
        "            \"Name\": company_info_full.get(\"shortName\"),\n",
        "            \"Symbol\": company_info_full.get(\"symbol\"),\n",
        "            \"Current Stock Price\": f\"{company_info_full.get('regularMarketPrice', company_info_full.get('currentPrice'))} {company_info_full.get('currency', 'USD')}\",\n",
        "            \"Market Cap\": f\"{company_info_full.get('marketCap', company_info_full.get('enterpriseValue'))} {company_info_full.get('currency', 'USD')}\",\n",
        "            \"Sector\": company_info_full.get(\"sector\"),\n",
        "            \"Industry\": company_info_full.get(\"industry\"),\n",
        "            \"City\": company_info_full.get(\"city\"),\n",
        "            \"Country\": company_info_full.get(\"country\"),\n",
        "            \"EPS\": company_info_full.get(\"trailingEps\"),\n",
        "            \"P/E Ratio\": company_info_full.get(\"trailingPE\"),\n",
        "            \"52 Week Low\": company_info_full.get(\"fiftyTwoWeekLow\"),\n",
        "            \"52 Week High\": company_info_full.get(\"fiftyTwoWeekHigh\"),\n",
        "            \"50 Day Average\": company_info_full.get(\"fiftyDayAverage\"),\n",
        "            \"200 Day Average\": company_info_full.get(\"twoHundredDayAverage\"),\n",
        "            \"Employees\": company_info_full.get(\"fullTimeEmployees\"),\n",
        "            \"Total Cash\": company_info_full.get(\"totalCash\"),\n",
        "            \"Free Cash flow\": company_info_full.get(\"freeCashflow\"),\n",
        "            \"Operating Cash flow\": company_info_full.get(\"operatingCashflow\"),\n",
        "            \"EBITDA\": company_info_full.get(\"ebitda\"),\n",
        "            \"Revenue Growth\": company_info_full.get(\"revenueGrowth\"),\n",
        "            \"Gross Margins\": company_info_full.get(\"grossMargins\"),\n",
        "            \"Ebitda Margins\": company_info_full.get(\"ebitdaMargins\"),\n",
        "        }\n",
        "        return json.dumps(company_info_cleaned)\n",
        "    except Exception as e:\n",
        "        return f\"Error fetching company profile for {symbol}: {e}\"\n",
        "\n",
        "@tool\n",
        "def get_income_statements(symbol: str):\n",
        "\n",
        "    \"\"\"Use this function to get income statements for a given stock symbol.\n",
        "\n",
        "    Args:\n",
        "    symbol (str): The stock symbol.\n",
        "\n",
        "    Returns:\n",
        "    JSON containing income statements or an empty dictionary.\n",
        "    \"\"\"\n",
        "    try:\n",
        "        stock = yf.Ticker(symbol,session=session)\n",
        "        financials = stock.financials\n",
        "        return financials.to_json(orient=\"index\")\n",
        "    except Exception as e:\n",
        "        return f\"Error fetching income statements for {symbol}: {e}\"\n"
      ]
    },
    {
      "cell_type": "markdown",
      "id": "08db8f41",
      "metadata": {
        "id": "08db8f41"
      },
      "source": [
        "### Step 3: Define the Agents\n",
        "\n"
      ]
    },
    {
      "cell_type": "code",
      "execution_count": null,
      "id": "8ec045d0",
      "metadata": {
        "id": "8ec045d0"
      },
      "outputs": [],
      "source": [
        "from crewai import Agent\n",
        "\n",
        "# Agent for gathering company news and information\n",
        "news_info_explorer = Agent(\n",
        "    role='News and Info Researcher',\n",
        "    goal='Gather and provide the latest news and information about a company from the internet',\n",
        "    #llm='gpt-4o',\n",
        "    llm='gpt-4.1-2025-04-14',\n",
        "    verbose=True,\n",
        "    backstory=(\n",
        "        'You are an expert researcher, who can gather detailed information about a company. '\n",
        "        'Consider you are on: ' + Today\n",
        "    ),\n",
        "    tools=[search_tool],\n",
        "    cache=True,\n",
        "    max_iter=5,\n",
        ")\n",
        "\n",
        "# Agent for gathering financial data\n",
        "data_explorer = Agent(\n",
        "    role='Data Researcher',\n",
        "    goal='Gather and provide financial data and company information about a stock',\n",
        "    #llm='gpt-4o',\n",
        "    llm='gpt-4.1-2025-04-14',\n",
        "    verbose=True,\n",
        "    backstory=(\n",
        "        'You are an expert researcher, who can gather detailed information about a company or stock. '\n",
        "        'When using tools, use the stock symbol and add a suffix \".NS\" to it. try with and without the suffix and see what works'\n",
        "        'Consider you are on: ' + Today\n",
        "    ),\n",
        "    tools=[get_company_info, get_income_statements],\n",
        "    cache=True,\n",
        "    max_iter=5,\n",
        ")\n",
        "\n",
        "# Agent for analyzing data\n",
        "analyst = Agent(\n",
        "    role='Data Analyst',\n",
        "    goal='Consolidate financial data, stock information, and provide a summary',\n",
        "    #llm='gpt-4o',\n",
        "    llm='gpt-4.1-2025-04-14',\n",
        "    verbose=True,\n",
        "    backstory=(\n",
        "        'You are an expert in analyzing financial data, stock/company-related current information, and '\n",
        "        'making a comprehensive analysis. Use Indian units for numbers (lakh, crore). '\n",
        "        'Consider you are on: ' + Today\n",
        "    ),\n",
        ")\n",
        "\n",
        "# Agent for financial recommendations\n",
        "fin_expert = Agent(\n",
        "    role='Financial Expert',\n",
        "    goal='Considering financial analysis of a stock, make investment recommendations',\n",
        "    #llm='gpt-4o',\n",
        "    llm='gpt-4.1-2025-04-14',\n",
        "    verbose=True,\n",
        "    tools=[get_current_stock_price],\n",
        "    max_iter=5,\n",
        "    backstory=(\n",
        "        'You are an expert financial advisor who can provide investment recommendations. '\n",
        "        'Consider the financial analysis, current information about the company, current stock price, '\n",
        "        'and make recommendations about whether to buy/hold/sell a stock along with reasons.'\n",
        "        'When using tools, try with and without the suffix \".NS\" to the stock symbol and see what works. '\n",
        "        'Consider you are on: ' + Today\n",
        "    ),\n",
        ")"
      ]
    },
    {
      "cell_type": "markdown",
      "id": "64d4437c",
      "metadata": {
        "id": "64d4437c"
      },
      "source": [
        "### Step 4: Define the Tasks"
      ]
    },
    {
      "cell_type": "code",
      "execution_count": null,
      "id": "c3e78f83",
      "metadata": {
        "id": "c3e78f83"
      },
      "outputs": [],
      "source": [
        "from crewai import Task\n",
        "\n",
        "# Task to gather financial data of a stock\n",
        "get_company_financials = Task(\n",
        "    description=\"Get financial data like income statements and other fundamental ratios for stock: {stock}\",\n",
        "    expected_output=\"Detailed information from income statement, key ratios for {stock}. \"\n",
        "                    \"Indicate also about current financial status and trend over the period.\",\n",
        "    agent=data_explorer,\n",
        ")\n",
        "\n",
        "# Task to gather company news\n",
        "get_company_news = Task(\n",
        "    description=\"Get latest news and business information about company: {stock}\",\n",
        "    expected_output=\"Latest news and business information about the company. Provide a summary also.\",\n",
        "    agent=news_info_explorer,\n",
        ")\n",
        "\n",
        "# Task to analyze financial data and news\n",
        "analyse = Task(\n",
        "    description=\"Make thorough analysis based on given financial data and latest news of a stock\",\n",
        "    expected_output=\"Comprehensive analysis of a stock outlining financial health, stock valuation, risks, and news. \"\n",
        "                    \"Mention currency information and number units in Indian context (lakh/crore).\",\n",
        "    agent=analyst,\n",
        "    context=[get_company_financials, get_company_news],\n",
        "    output_file='Analysis.md',\n",
        ")\n",
        "\n",
        "# Task to provide financial advice\n",
        "advise = Task(\n",
        "    description=\"Make a recommendation about investing in a stock, based on analysis provided and current stock price. \"\n",
        "                \"Explain the reasons.\",\n",
        "    expected_output=\"Recommendation (Buy / Hold / Sell) of a stock backed with reasons elaborated.\"\n",
        "                    \"Response in Mark down format.\",\n",
        "    agent=fin_expert,\n",
        "    context=[analyse],\n",
        "    output_file='Recommendation.md',\n",
        ")"
      ]
    },
    {
      "cell_type": "markdown",
      "id": "97a2571e",
      "metadata": {
        "id": "97a2571e"
      },
      "source": [
        "### Step 5: Set Up the Crew"
      ]
    },
    {
      "cell_type": "code",
      "execution_count": null,
      "id": "25e9ba1e",
      "metadata": {
        "id": "25e9ba1e"
      },
      "outputs": [],
      "source": [
        "from crewai import Crew, Process\n",
        "from datetime import datetime\n",
        "\n",
        "# Callback function to print a timestamp\n",
        "def timestamp(Input):\n",
        "    print(datetime.now())\n",
        "\n",
        "# Define the crew with agents and tasks in sequential process\n",
        "crew = Crew(\n",
        "    agents=[data_explorer, news_info_explorer, analyst, fin_expert],\n",
        "    tasks=[get_company_financials, get_company_news, analyse, advise],\n",
        "    verbose=True,\n",
        "    Process=Process.sequential,\n",
        "    step_callback=timestamp,\n",
        ")"
      ]
    },
    {
      "cell_type": "markdown",
      "id": "569c842e",
      "metadata": {
        "id": "569c842e"
      },
      "source": [
        "### Step 5: Run the Crew and Observe Results"
      ]
    },
    {
      "cell_type": "code",
      "execution_count": null,
      "id": "e131206a",
      "metadata": {
        "id": "e131206a",
        "collapsed": true
      },
      "outputs": [],
      "source": [
        "# Set your OpenAI API key or any other LLM API key\n",
        "from google.colab import userdata\n",
        "import os\n",
        "\n",
        "# Set your Groq API key or any other LLM API key\n",
        "os.environ['OPENAI_API_KEY'] = userdata.get('openai_key')\n",
        "\n",
        "# Run the crew with a specific stock\n",
        "result = crew.kickoff(inputs={'stock': 'RELIANCE'})\n",
        "\n",
        "# Print the final result\n",
        "print(\"Final Result:\", result)"
      ]
    },
    {
      "cell_type": "markdown",
      "id": "d4917f4a",
      "metadata": {
        "id": "d4917f4a"
      },
      "source": [
        "\n",
        "---\n",
        "### Conclusion\n",
        "This workflow demonstrates a detailed investment advisory process using multiple agents and tasks. The system showcases the integration of custom tools and collaborative agents in CrewAI to provide actionable financial insights.\n"
      ]
    }
  ],
  "metadata": {
    "colab": {
      "provenance": [],
      "include_colab_link": true
    },
    "kernelspec": {
      "display_name": "Python 3",
      "name": "python3"
    },
    "language_info": {
      "name": "python"
    }
  },
  "nbformat": 4,
  "nbformat_minor": 5
}